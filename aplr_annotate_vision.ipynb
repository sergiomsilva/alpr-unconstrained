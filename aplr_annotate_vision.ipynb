{
 "cells": [
  {
   "cell_type": "code",
   "execution_count": 51,
   "metadata": {},
   "outputs": [],
   "source": [
    "import os\n",
    "import cv2\n",
    "from codecs import open as copen\n",
    "from shutil import copyfile, rmtree\n",
    "\n",
    "from sklearn.model_selection import train_test_split\n",
    "import requests\n",
    "import urllib.request\n",
    "import numpy as np\n",
    "import matplotlib.pyplot as plt\n",
    "import numpy as np"
   ]
  },
  {
   "cell_type": "code",
   "execution_count": 73,
   "metadata": {},
   "outputs": [],
   "source": [
    "dms_url = 'dms.ei.team'\n",
    "vision_url = 'api.vis.ei.team'\n",
    "api_key_dms = 'U2sl0VOF.d9Ywe5lo7GYjUoeSSPsXKTB9fVdlIFO1'\n",
    "api_key_vision = '1PmnQK4u.m1b2mA1QmIsVRNOq3eErQX1jtZh3Zrxu'\n",
    "obj_path = './train/annotate_vision'"
   ]
  },
  {
   "cell_type": "code",
   "execution_count": 75,
   "metadata": {},
   "outputs": [],
   "source": [
    "os.mkdir(obj_path)"
   ]
  },
  {
   "cell_type": "code",
   "execution_count": 35,
   "metadata": {},
   "outputs": [
    {
     "name": "stdout",
     "output_type": "stream",
     "text": [
      "<Response [200]>\n",
      "[{'image_uid': 121516, 'markers': [{'type': 'polygon', 'labels': ['plate'], 'coordinates': [{'x': 888, 'y': 1140}, {'x': 989, 'y': 1143}, {'x': 983, 'y': 1187}, {'x': 888, 'y': 1184}]}], 'labeler': 'SothanaV', 'reviewer': 'SothanaV', 'is_second_edit': False}, {'image_uid': 121506, 'markers': [{'type': 'polygon', 'labels': ['plate'], 'coordinates': [{'x': 1714, 'y': 1058}, {'x': 1796, 'y': 1061}, {'x': 1799, 'y': 1092}, {'x': 1714, 'y': 1092}]}], 'labeler': 'SothanaV', 'reviewer': 'SothanaV', 'is_second_edit': False}, {'image_uid': 121488, 'markers': [{'type': 'polygon', 'labels': ['plate'], 'coordinates': [{'x': 1751, 'y': 1070}, {'x': 2000, 'y': 1055}, {'x': 2007, 'y': 1143}, {'x': 1755, 'y': 1162}]}], 'labeler': 'SothanaV', 'reviewer': 'SothanaV', 'is_second_edit': False}, {'image_uid': 121456, 'markers': [{'type': 'polygon', 'labels': ['plate'], 'coordinates': [{'x': 1663, 'y': 894}, {'x': 1736, 'y': 891}, {'x': 1739, 'y': 922}, {'x': 1666, 'y': 925}]}], 'labeler': 'SothanaV', 'reviewer': 'SothanaV', 'is_second_edit': False}, {'image_uid': 121451, 'markers': [{'type': 'polygon', 'labels': ['plate'], 'coordinates': [{'x': 1172, 'y': 828}, {'x': 1254, 'y': 815}, {'x': 1257, 'y': 850}, {'x': 1178, 'y': 862}]}], 'labeler': 'SothanaV', 'reviewer': 'SothanaV', 'is_second_edit': False}, {'image_uid': 121450, 'markers': [{'type': 'polygon', 'labels': ['plate'], 'coordinates': [{'x': 2284, 'y': 938}, {'x': 2403, 'y': 932}, {'x': 2410, 'y': 982}, {'x': 2290, 'y': 988}]}], 'labeler': 'SothanaV', 'reviewer': 'SothanaV', 'is_second_edit': False}, {'image_uid': 121440, 'markers': [{'type': 'polygon', 'labels': ['plate'], 'coordinates': [{'x': 2066, 'y': 894}, {'x': 2161, 'y': 891}, {'x': 2161, 'y': 932}, {'x': 2070, 'y': 935}]}], 'labeler': 'SothanaV', 'reviewer': 'SothanaV', 'is_second_edit': False}, {'image_uid': 121436, 'markers': [{'type': 'polygon', 'labels': ['plate'], 'coordinates': [{'x': 2057, 'y': 973}, {'x': 2177, 'y': 966}, {'x': 2186, 'y': 1014}, {'x': 2070, 'y': 1026}]}], 'labeler': 'SothanaV', 'reviewer': 'SothanaV', 'is_second_edit': False}, {'image_uid': 121413, 'markers': [{'type': 'polygon', 'labels': ['plate'], 'coordinates': [{'x': 1418, 'y': 1272}, {'x': 1493, 'y': 1272}, {'x': 1487, 'y': 1319}, {'x': 1414, 'y': 1322}]}], 'labeler': 'SothanaV', 'reviewer': 'SothanaV', 'is_second_edit': False}, {'image_uid': 121373, 'markers': [{'type': 'polygon', 'labels': ['plate'], 'coordinates': [{'x': 1358, 'y': 831}, {'x': 1433, 'y': 828}, {'x': 1436, 'y': 859}, {'x': 1358, 'y': 866}]}], 'labeler': 'SothanaV', 'reviewer': 'SothanaV', 'is_second_edit': False}]\n"
     ]
    }
   ],
   "source": [
    "images = requests.get('http://{}/v1/apikey/annotation'.format(vision_url),\n",
    "                    headers={\n",
    "                        \"Authorization\": \"Api-Key {}\".format(api_key_vision)\n",
    "                    }\n",
    "                   )\n",
    "print(images)\n",
    "images = images.json()['annotations']\n",
    "print(images)"
   ]
  },
  {
   "cell_type": "code",
   "execution_count": 77,
   "metadata": {
    "scrolled": false
   },
   "outputs": [
    {
     "name": "stdout",
     "output_type": "stream",
     "text": [
      "1 10\n",
      "4,0.22023809523809523,0.2452876984126984,0.24379960317460317,0.22023809523809523,0.5816326530612245,0.5831632653061225,0.6056122448979592,0.6040816326530613\n",
      "2 10\n",
      "4,0.42509920634920634,0.44543650793650796,0.4461805555555556,0.42509920634920634,0.539795918367347,0.5413265306122449,0.5571428571428572,0.5571428571428572\n",
      "3 10\n",
      "4,0.43427579365079366,0.49603174603174605,0.49776785714285715,0.43526785714285715,0.5459183673469388,0.5382653061224489,0.5831632653061225,0.5928571428571429\n",
      "4 10\n",
      "4,0.4124503968253968,0.4305555555555556,0.4312996031746032,0.4131944444444444,0.4561224489795918,0.4545918367346939,0.4704081632653061,0.4719387755102041\n",
      "5 10\n",
      "4,0.2906746031746032,0.31101190476190477,0.3117559523809524,0.29216269841269843,0.42244897959183675,0.41581632653061223,0.4336734693877551,0.43979591836734694\n",
      "6 10\n",
      "4,0.566468253968254,0.5959821428571429,0.597718253968254,0.5679563492063492,0.4785714285714286,0.47551020408163264,0.5010204081632653,0.5040816326530613\n",
      "7 10\n",
      "4,0.5124007936507936,0.5359623015873016,0.5359623015873016,0.5133928571428571,0.4561224489795918,0.4545918367346939,0.47551020408163264,0.4770408163265306\n",
      "8 10\n",
      "4,0.5101686507936508,0.5399305555555556,0.5421626984126984,0.5133928571428571,0.49642857142857144,0.4928571428571429,0.5173469387755102,0.523469387755102\n",
      "9 10\n",
      "4,0.35168650793650796,0.37028769841269843,0.3687996031746032,0.3506944444444444,0.6489795918367347,0.6489795918367347,0.6729591836734694,0.6744897959183673\n",
      "10 10\n",
      "4,0.3368055555555556,0.35540674603174605,0.35615079365079366,0.3368055555555556,0.42397959183673467,0.42244897959183675,0.43826530612244896,0.4418367346938776\n"
     ]
    }
   ],
   "source": [
    "for i, image in enumerate(images):\n",
    "    print(i+1,len(images))\n",
    "    labels = []\n",
    "    labelled = image['markers']\n",
    "    url = requests.get('http://{}/v1/image/{}'.format(dms_url,image['image_uid'])).json()['file']\n",
    "    req = urllib.request.urlopen(url)\n",
    "    arr = np.asarray(bytearray(req.read()), dtype=np.uint8)\n",
    "    frame = cv2.imdecode(arr, -1)\n",
    "    f_name = image['image_uid']\n",
    "    heigth,weidth = frame.shape[:2]\n",
    "#     print(\"w:{} h:{}\".format(weidth,heigth))\n",
    "#     plt.imshow(frame)\n",
    "#     plt.show()\n",
    "    txt=\"\"\n",
    "    obj_img_path = os.path.join(obj_path, \"{}.png\".format(f_name))\n",
    "    obj_txt_path = os.path.join(obj_path, \"{}.txt\".format(f_name))\n",
    "    for label in labelled:\n",
    "        if label['type'] == 'polygon':\n",
    "            coordinates = label['coordinates']\n",
    "            m = np.zeros((4,2))\n",
    "            for index,cor in enumerate(coordinates):\n",
    "                m[index][0] = cor['x']/weidth\n",
    "                m[index][1] = cor['y']/heigth\n",
    "#             print(m)\n",
    "            txt = \"{},{},{},{},{},{},{},{},{}\".format(4,\n",
    "                    m[0][0],m[1][0],\n",
    "                    m[2][0],m[3][0],\n",
    "                    m[0][1],m[1][1],\n",
    "                    m[2][1],m[3][1])\n",
    "            print(txt)\n",
    "    with open(obj_txt_path, 'w+') as fp:\n",
    "        fp.write(txt)\n",
    "        fp.write(os.linesep)\n",
    "    cv2.imwrite(obj_img_path,frame)"
   ]
  },
  {
   "cell_type": "code",
   "execution_count": null,
   "metadata": {},
   "outputs": [],
   "source": []
  }
 ],
 "metadata": {
  "kernelspec": {
   "display_name": "Python 3",
   "language": "python",
   "name": "python3"
  },
  "language_info": {
   "codemirror_mode": {
    "name": "ipython",
    "version": 3
   },
   "file_extension": ".py",
   "mimetype": "text/x-python",
   "name": "python",
   "nbconvert_exporter": "python",
   "pygments_lexer": "ipython3",
   "version": "3.7.3"
  }
 },
 "nbformat": 4,
 "nbformat_minor": 2
}
